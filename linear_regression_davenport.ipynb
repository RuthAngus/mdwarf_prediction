{
 "cells": [
  {
   "cell_type": "markdown",
   "metadata": {},
   "source": [
    "# Predicting M dwarf rotation periods using linear regression."
   ]
  },
  {
   "cell_type": "markdown",
   "metadata": {},
   "source": [
    "$$P_\\mathrm{rot} = w.A $$\n",
    "$$P_\\mathrm{rot} = w_0 \\mathrm{Nfl} + w_1 \\mathrm{Nfl_{68}} ... + w_x \\mathrm{Nfl~Nfl_{68}} + ... $$"
   ]
  },
  {
   "cell_type": "code",
   "execution_count": 1,
   "metadata": {},
   "outputs": [],
   "source": [
    "import numpy as np\n",
    "import matplotlib.pyplot as plt\n",
    "%matplotlib inline\n",
    "import pandas as pd\n",
    "\n",
    "plotpar = {'axes.labelsize': 30,\n",
    "           'font.size': 30,\n",
    "           'legend.fontsize': 30,\n",
    "           'xtick.labelsize': 30,\n",
    "           'ytick.labelsize': 30,\n",
    "           'text.usetex': True}\n",
    "plt.rcParams.update(plotpar)"
   ]
  },
  {
   "cell_type": "code",
   "execution_count": 2,
   "metadata": {},
   "outputs": [
    {
     "data": {
      "text/html": [
       "<div>\n",
       "<style scoped>\n",
       "    .dataframe tbody tr th:only-of-type {\n",
       "        vertical-align: middle;\n",
       "    }\n",
       "\n",
       "    .dataframe tbody tr th {\n",
       "        vertical-align: top;\n",
       "    }\n",
       "\n",
       "    .dataframe thead th {\n",
       "        text-align: right;\n",
       "    }\n",
       "</style>\n",
       "<table border=\"1\" class=\"dataframe\">\n",
       "  <thead>\n",
       "    <tr style=\"text-align: right;\">\n",
       "      <th></th>\n",
       "      <th>KIC</th>\n",
       "      <th>g-i</th>\n",
       "      <th>Mass</th>\n",
       "      <th>Prot</th>\n",
       "      <th>Nfl</th>\n",
       "      <th>Nfl68</th>\n",
       "      <th>Lfl/Lkp</th>\n",
       "      <th>e_Lfl/Lkp</th>\n",
       "      <th>alpha</th>\n",
       "      <th>beta</th>\n",
       "      <th>M14</th>\n",
       "      <th>C16</th>\n",
       "      <th>Simbad</th>\n",
       "      <th>_RA</th>\n",
       "      <th>_DE</th>\n",
       "    </tr>\n",
       "  </thead>\n",
       "  <tbody>\n",
       "    <tr>\n",
       "      <th>0</th>\n",
       "      <td>10000490</td>\n",
       "      <td>NaN</td>\n",
       "      <td>1.38</td>\n",
       "      <td>NaN</td>\n",
       "      <td>241</td>\n",
       "      <td>45</td>\n",
       "      <td>0.000043</td>\n",
       "      <td>1.480000e-07</td>\n",
       "      <td>-0.55</td>\n",
       "      <td>18.84</td>\n",
       "      <td>0</td>\n",
       "      <td>2</td>\n",
       "      <td>Simbad</td>\n",
       "      <td>286.55600</td>\n",
       "      <td>46.95734</td>\n",
       "    </tr>\n",
       "    <tr>\n",
       "      <th>1</th>\n",
       "      <td>10001145</td>\n",
       "      <td>0.013</td>\n",
       "      <td>1.60</td>\n",
       "      <td>NaN</td>\n",
       "      <td>271</td>\n",
       "      <td>61</td>\n",
       "      <td>0.000052</td>\n",
       "      <td>1.430000e-08</td>\n",
       "      <td>-1.41</td>\n",
       "      <td>48.85</td>\n",
       "      <td>0</td>\n",
       "      <td>2</td>\n",
       "      <td>Simbad</td>\n",
       "      <td>286.94516</td>\n",
       "      <td>46.90519</td>\n",
       "    </tr>\n",
       "    <tr>\n",
       "      <th>2</th>\n",
       "      <td>10001154</td>\n",
       "      <td>1.404</td>\n",
       "      <td>0.72</td>\n",
       "      <td>NaN</td>\n",
       "      <td>118</td>\n",
       "      <td>115</td>\n",
       "      <td>0.000014</td>\n",
       "      <td>1.640000e-08</td>\n",
       "      <td>-0.57</td>\n",
       "      <td>17.35</td>\n",
       "      <td>0</td>\n",
       "      <td>1</td>\n",
       "      <td>Simbad</td>\n",
       "      <td>286.94800</td>\n",
       "      <td>46.91293</td>\n",
       "    </tr>\n",
       "    <tr>\n",
       "      <th>3</th>\n",
       "      <td>10001167</td>\n",
       "      <td>1.151</td>\n",
       "      <td>0.77</td>\n",
       "      <td>NaN</td>\n",
       "      <td>147</td>\n",
       "      <td>131</td>\n",
       "      <td>0.000072</td>\n",
       "      <td>2.670000e-08</td>\n",
       "      <td>-0.42</td>\n",
       "      <td>12.79</td>\n",
       "      <td>0</td>\n",
       "      <td>0</td>\n",
       "      <td>Simbad</td>\n",
       "      <td>286.95575</td>\n",
       "      <td>46.93662</td>\n",
       "    </tr>\n",
       "    <tr>\n",
       "      <th>4</th>\n",
       "      <td>10002792</td>\n",
       "      <td>1.393</td>\n",
       "      <td>0.73</td>\n",
       "      <td>1.165</td>\n",
       "      <td>225</td>\n",
       "      <td>210</td>\n",
       "      <td>0.000410</td>\n",
       "      <td>3.380000e-07</td>\n",
       "      <td>-0.52</td>\n",
       "      <td>16.82</td>\n",
       "      <td>1</td>\n",
       "      <td>0</td>\n",
       "      <td>Simbad</td>\n",
       "      <td>287.86722</td>\n",
       "      <td>46.98308</td>\n",
       "    </tr>\n",
       "  </tbody>\n",
       "</table>\n",
       "</div>"
      ],
      "text/plain": [
       "        KIC    g-i  Mass   Prot  Nfl  Nfl68   Lfl/Lkp     e_Lfl/Lkp  alpha  \\\n",
       "0  10000490    NaN  1.38    NaN  241     45  0.000043  1.480000e-07  -0.55   \n",
       "1  10001145  0.013  1.60    NaN  271     61  0.000052  1.430000e-08  -1.41   \n",
       "2  10001154  1.404  0.72    NaN  118    115  0.000014  1.640000e-08  -0.57   \n",
       "3  10001167  1.151  0.77    NaN  147    131  0.000072  2.670000e-08  -0.42   \n",
       "4  10002792  1.393  0.73  1.165  225    210  0.000410  3.380000e-07  -0.52   \n",
       "\n",
       "    beta  M14  C16  Simbad        _RA       _DE  \n",
       "0  18.84    0    2  Simbad  286.55600  46.95734  \n",
       "1  48.85    0    2  Simbad  286.94516  46.90519  \n",
       "2  17.35    0    1  Simbad  286.94800  46.91293  \n",
       "3  12.79    0    0  Simbad  286.95575  46.93662  \n",
       "4  16.82    1    0  Simbad  287.86722  46.98308  "
      ]
     },
     "execution_count": 2,
     "metadata": {},
     "output_type": "execute_result"
    }
   ],
   "source": [
    "dav = pd.read_csv(\"davenport2018.csv\", skiprows=61, delimiter=\";\")\n",
    "dav.head()"
   ]
  },
  {
   "cell_type": "code",
   "execution_count": 3,
   "metadata": {},
   "outputs": [],
   "source": [
    "import astropy.utils as au\n",
    "from astropy.io import fits\n",
    "\n",
    "gaia_url = \"kepler_dr2_1arcsec.fits\"\n",
    "\n",
    "with fits.open(gaia_url) as data:\n",
    "    gaia = pd.DataFrame(data[1].data, dtype=\"float64\")"
   ]
  },
  {
   "cell_type": "code",
   "execution_count": 4,
   "metadata": {},
   "outputs": [],
   "source": [
    "df1 = pd.merge(dav, gaia, left_on=\"KIC\", right_on=\"kepid\", how=\"inner\")"
   ]
  },
  {
   "cell_type": "code",
   "execution_count": 5,
   "metadata": {},
   "outputs": [
    {
     "name": "stdout",
     "output_type": "stream",
     "text": [
      "(3994, 116)\n"
     ]
    }
   ],
   "source": [
    "print(np.shape(df1))"
   ]
  },
  {
   "cell_type": "markdown",
   "metadata": {},
   "source": [
    "Calculate abs mag and colour."
   ]
  },
  {
   "cell_type": "code",
   "execution_count": 6,
   "metadata": {},
   "outputs": [],
   "source": [
    "def m_to_M(m, D):\n",
    "    \"\"\"\n",
    "    Convert apparent magnitude to absolute magnitude.\n",
    "    \"\"\"\n",
    "    return m - 5*np.log10(abs(D)) + 5\n",
    "\n",
    "df1[\"abs_G\"] = m_to_M(df1.phot_g_mean_mag.values, 1./df1.parallax.values)\n",
    "df1[\"bprp\"] = df1.phot_bp_mean_mag.values - df1.phot_rp_mean_mag.values"
   ]
  },
  {
   "cell_type": "markdown",
   "metadata": {},
   "source": [
    "Mask out missing data."
   ]
  },
  {
   "cell_type": "code",
   "execution_count": 7,
   "metadata": {},
   "outputs": [
    {
     "name": "stdout",
     "output_type": "stream",
     "text": [
      "(391, 118) (3994, 118)\n"
     ]
    }
   ],
   "source": [
    "features = [df1[\"g-i\"], df1[\"Mass\"], df1[\"Nfl\"], df1[\"Nfl68\"], df1[\"Lfl/Lkp\"], df1[\"alpha\"], df1[\"beta\"],\n",
    "            df1[\"ra\"], df1[\"dec\"], df1[\"parallax\"], 1./df1[\"parallax\"], df1[\"abs_G\"], df1[\"bprp\"],\n",
    "            df1[\"pmra\"], df1[\"pmdec\"], df1[\"Prot\"]]\n",
    "\n",
    "m = np.isfinite(df1[\"g-i\"].values)\n",
    "for f in features[1:]:\n",
    "    m &= np.isfinite(f.values)\n",
    "    \n",
    "df = df1.iloc[m]\n",
    "print(np.shape(df), np.shape(df1))"
   ]
  },
  {
   "cell_type": "markdown",
   "metadata": {},
   "source": [
    "Linear least squares:"
   ]
  },
  {
   "cell_type": "code",
   "execution_count": 8,
   "metadata": {},
   "outputs": [],
   "source": [
    "def train(y, X):\n",
    "    \"\"\"\n",
    "    \n",
    "    Args:\n",
    "        y (array): An Nstar array of rotation periods.\n",
    "        X (array): An Nstar x NX array of features.\n",
    "        \n",
    "    Returns:\n",
    "        weights (array): The array of weights of length NX + 1.\n",
    "        \n",
    "    \"\"\"\n",
    "    A = np.concatenate((np.ones((len(X), 1)), X), axis=1)  # Shape: Nstars x Nfeatures (incl crossterms)\n",
    "    AT = A.T\n",
    "    ATA = np.dot(AT, A)\n",
    "    weights = np.linalg.solve(ATA, np.dot(AT, y))\n",
    "    return weights"
   ]
  },
  {
   "cell_type": "markdown",
   "metadata": {},
   "source": [
    "Define the y-vector (what you want to predict)."
   ]
  },
  {
   "cell_type": "code",
   "execution_count": 9,
   "metadata": {},
   "outputs": [],
   "source": [
    "y = df.Prot.values"
   ]
  },
  {
   "cell_type": "markdown",
   "metadata": {},
   "source": [
    "Define the X matrix (the data you're using to predict y)."
   ]
  },
  {
   "cell_type": "code",
   "execution_count": 10,
   "metadata": {},
   "outputs": [
    {
     "name": "stdout",
     "output_type": "stream",
     "text": [
      "(391, 135) 15\n"
     ]
    }
   ],
   "source": [
    "from itertools import combinations_with_replacement\n",
    "\n",
    "args = df[\"g-i\"], df[\"Mass\"], df[\"Nfl\"], df[\"Nfl68\"], df[\"Lfl/Lkp\"], df[\"alpha\"], df[\"beta\"], \\\n",
    "    df[\"ra\"], df[\"dec\"], df[\"parallax\"], 1./df[\"parallax\"], df[\"abs_G\"], df[\"bprp\"], df[\"pmra\"], df[\"pmdec\"]\n",
    "X = list(args)\n",
    "for a, b in combinations_with_replacement(args, 2):\n",
    "    X.append(a * b)\n",
    "X = np.array(X).T\n",
    "print(np.shape(X), len(args))"
   ]
  },
  {
   "cell_type": "markdown",
   "metadata": {},
   "source": [
    "Shuffle X and y and select training and testing sets."
   ]
  },
  {
   "cell_type": "code",
   "execution_count": 11,
   "metadata": {},
   "outputs": [],
   "source": [
    "# Define the number of training and validating stars.\n",
    "Ntrain = 2000\n",
    "\n",
    "# Choose stars at random and split.\n",
    "shuffle_inds = np.arange(len(y))\n",
    "np.random.shuffle(shuffle_inds)\n",
    "train_inds = shuffle_inds[:Ntrain]\n",
    "test_inds = shuffle_inds[Ntrain:]\n",
    "y_train, X_train = y[train_inds], X[train_inds, :]\n",
    "y_test, X_test = y[test_inds], X[test_inds, :]"
   ]
  },
  {
   "cell_type": "markdown",
   "metadata": {},
   "source": [
    "Solve for the weight vector."
   ]
  },
  {
   "cell_type": "code",
   "execution_count": 12,
   "metadata": {},
   "outputs": [],
   "source": [
    "weights = train(y_train, X_train)"
   ]
  },
  {
   "cell_type": "markdown",
   "metadata": {},
   "source": [
    "Compute the predicted y-values."
   ]
  },
  {
   "cell_type": "code",
   "execution_count": 13,
   "metadata": {},
   "outputs": [],
   "source": [
    "A = np.concatenate((np.ones((len(X_train), 1)), X_train), axis=1)\n",
    "y_predict = np.dot(weights.T, A.T)"
   ]
  },
  {
   "cell_type": "markdown",
   "metadata": {},
   "source": [
    "Plot the prediction for the training set."
   ]
  },
  {
   "cell_type": "code",
   "execution_count": 14,
   "metadata": {},
   "outputs": [
    {
     "data": {
      "image/png": "[encoded data removed]",
      "text/plain": [
       "<Figure size 600x600 with 1 Axes>"
      ]
     },
     "metadata": {
      "needs_background": "light"
     },
     "output_type": "display_data"
    }
   ],
   "source": [
    "xs = np.linspace(0, 15, 100)\n",
    "\n",
    "plt.figure(figsize=(6, 6), dpi=100)\n",
    "plt.plot(y_train, y_predict.T, \".\", alpha=.2)\n",
    "plt.plot(xs, xs, \"k--\")\n",
    "plt.xlim(0, 15)\n",
    "plt.ylim(0, 15)\n",
    "plt.xlabel(\"$\\mathrm{McQuillan~Period~[Days]}$\")\n",
    "plt.ylabel(\"$\\mathrm{Predicted~Period~[Days]}$\")\n",
    "plt.subplots_adjust(left=.18, bottom=.15)"
   ]
  },
  {
   "cell_type": "code",
   "execution_count": null,
   "metadata": {},
   "outputs": [],
   "source": []
  }
 ],
 "metadata": {
  "kernelspec": {
   "display_name": "Python 3",
   "language": "python",
   "name": "python3"
  },
  "language_info": {
   "codemirror_mode": {
    "name": "ipython",
    "version": 3
   },
   "file_extension": ".py",
   "mimetype": "text/x-python",
   "name": "python",
   "nbconvert_exporter": "python",
   "pygments_lexer": "ipython3",
   "version": "3.7.1"
  }
 },
 "nbformat": 4,
 "nbformat_minor": 2
}
